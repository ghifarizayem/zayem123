{
 "cells": [
  {
   "cell_type": "markdown",
   "metadata": {},
   "source": [
    "# Harga Nasi Goreng Wisper"
   ]
  },
  {
   "cell_type": "code",
   "execution_count": null,
   "metadata": {},
   "outputs": [
    {
     "name": "stdout",
     "output_type": "stream",
     "text": [
      "Masukkan kode barang : 01\n",
      "Nasi Goreng = 12000.0\n",
      "Jumlah Barang : 2\n",
      "24000.0\n",
      "Masukkan kode barang : 02\n",
      "Nasi Goreng tambah Telur = 15000.0\n",
      "Jumlah Barang : 1\n",
      "15000.0\n",
      "Masukkan kode barang : q\n",
      "Total Item = 3\n",
      "Total Bayar = 39000.0\n",
      "jumlah uang = 40000\n",
      "Jumlah kembalian anda adalah Rp 1000.0\n"
     ]
    }
   ],
   "source": [
    "jumlahsemua = 0\n",
    "hargasemua = 0\n",
    "HargaNasiGoreng = float(12000)\n",
    "HargaNasiGorengtambahTelur = float(15000)\n",
    "HargaKerupuk = float(1000)\n",
    "HargaAirMineral = float(3000)\n",
    "barang = 1\n",
    "while barang != 0 :\n",
    "    KodeBarang = input(\"Masukkan kode barang : \")\n",
    "    if KodeBarang == \"01\":\n",
    "        print (\"Nasi Goreng = \" + str(HargaNasiGoreng))\n",
    "        JumlahA = int(input(\"Jumlah Barang : \"))\n",
    "        hargaA = HargaNasiGoreng * JumlahA\n",
    "        print (hargaA)\n",
    "        jumlahtotal = jumlahsemua + JumlahA\n",
    "        hargatotal = hargasemua + hargaA\n",
    "    elif KodeBarang == \"02\":\n",
    "        print (\"Nasi Goreng tambah Telur = \" + str(HargaNasiGorengtambahTelur))\n",
    "        JumlahB =int(input(\"Jumlah Barang : \"))\n",
    "        hargaB = HargaNasiGorengtambahTelur * JumlahB\n",
    "        print (hargaB)\n",
    "        jumlahtotal = JumlahA + JumlahB\n",
    "        hargatotal = hargaA + hargaB\n",
    "    elif KodeBarang == \"03\":\n",
    "        print (\"Kerupuk = \" + str(HargaKerupuk))\n",
    "        JumlahC =int(input(\"Jumlah Barang : \"))\n",
    "        hargaC = HargaKerupuk * JumlahC\n",
    "        print (hargaC)\n",
    "        jumlahtotal = JumlahA + JumlahB + JumlahC\n",
    "        hargatotal = hargaA + hargaB + hargaC\n",
    "    elif KodeBarang == \"04\":\n",
    "        print (\"Air Mineral = \" + str(HargaAirMineral))\n",
    "        JumlahD =int(input(\"Jumlah Barang : \"))\n",
    "        hargaD = HargaAirMineral * JumlahD\n",
    "        print (hargaD)\n",
    "        jumlahtotal = JumlahA +JumlahB +JumlahC + JumlahD\n",
    "        hargatotal = hargaA + hargaB + hargaC + hargaD\n",
    "    elif KodeBarang == \"q\":\n",
    "        print(\"Total Item = \" + str(jumlahtotal))\n",
    "        print(\"Total Bayar = \" + str(hargatotal))\n",
    "        bayar = int(input(\"jumlah uang = \"))\n",
    "        if (bayar>hargatotal):\n",
    "            print(\"Jumlah kembalian anda adalah Rp\", bayar-hargatotal)\n",
    "        else:\n",
    "            print (\"uang anda kurang untuk melakukan transaksi ini\")"
   ]
  },
  {
   "cell_type": "code",
   "execution_count": null,
   "metadata": {},
   "outputs": [],
   "source": []
  },
  {
   "cell_type": "code",
   "execution_count": null,
   "metadata": {},
   "outputs": [],
   "source": []
  },
  {
   "cell_type": "code",
   "execution_count": null,
   "metadata": {},
   "outputs": [],
   "source": []
  }
 ],
 "metadata": {
  "kernelspec": {
   "display_name": "Python 3",
   "language": "python",
   "name": "python3"
  },
  "language_info": {
   "codemirror_mode": {
    "name": "ipython",
    "version": 3
   },
   "file_extension": ".py",
   "mimetype": "text/x-python",
   "name": "python",
   "nbconvert_exporter": "python",
   "pygments_lexer": "ipython3",
   "version": "3.7.4"
  }
 },
 "nbformat": 4,
 "nbformat_minor": 2
}
